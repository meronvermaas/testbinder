{
 "cells": [
  {
   "cell_type": "markdown",
   "metadata": {},
   "source": [
    "# Example Jupyter R notebook\n",
    "\n",
    "Jupyter is a web application that presents notebooks (like this)."
   ]
  },
  {
   "cell_type": "markdown",
   "metadata": {},
   "source": [
    "## Example cell\n",
    "\n",
    "The notebook is divided into \"cells\" that can be tagged for _Markdown_ or _Code_ (dropdown above). \n",
    "\n",
    "* Double-click to edit a cell.\n",
    "* Shift-enter to evaluate the cell.\n",
    "* Jupyter sends the contents of the cell back to a \"Kernel\" running on the server to evaluate.\n",
    "* If there is output, it's displayed below the cell."
   ]
  },
  {
   "cell_type": "markdown",
   "metadata": {},
   "source": [
    "## You can preload data and libraries\n",
    "\n",
    "For example, there are preloaded datasets in `jacobs2016data`:\n",
    "- `class.data`\n",
    "- `feedback.topics`\n",
    "- `lecturer.scores`\n",
    "- `module.scores`\n",
    "- `student.demographics`"
   ]
  },
  {
   "cell_type": "code",
   "execution_count": 3,
   "metadata": {
    "collapsed": true
   },
   "outputs": [],
   "source": [
    "# Load the data\n",
    "library(jacobs2016data)\n",
    "data(class.data)\n",
    "data(student.demographics)\n",
    "data(lecturer.scores)\n",
    "data(module.scores)\n",
    "data(feedback.topics)"
   ]
  },
  {
   "cell_type": "markdown",
   "metadata": {},
   "source": [
    "## This is just like Rserve, but with a GUI\n",
    "\n",
    "So you send a command and get back standard out"
   ]
  },
  {
   "cell_type": "code",
   "execution_count": 4,
   "metadata": {
    "collapsed": false
   },
   "outputs": [
    {
     "data": {
      "text/html": [
       "<table>\n",
       "<thead><tr><th></th><th scope=col>year</th><th scope=col>students</th><th scope=col>gtas</th><th scope=col>mean.marks</th></tr></thead>\n",
       "<tbody>\n",
       "\t<tr><th scope=row>1</th><td>2010</td><td>35</td><td>4</td><td>0.505</td></tr>\n",
       "\t<tr><th scope=row>2</th><td>2011</td><td>89</td><td>7</td><td>0.689</td></tr>\n",
       "\t<tr><th scope=row>3</th><td>2012</td><td>162</td><td>9</td><td>0.603</td></tr>\n",
       "\t<tr><th scope=row>4</th><td>2013</td><td>85</td><td>18</td><td>0.745</td></tr>\n",
       "\t<tr><th scope=row>5</th><td>2014</td><td>87</td><td>14</td><td>0.68</td></tr>\n",
       "</tbody>\n",
       "</table>\n"
      ],
      "text/latex": [
       "\\begin{tabular}{r|llll}\n",
       "  & year & students & gtas & mean.marks\\\\\n",
       "\\hline\n",
       "\t1 & 2010 & 35 & 4 & 0.505\\\\\n",
       "\t2 & 2011 & 89 & 7 & 0.689\\\\\n",
       "\t3 & 2012 & 162 & 9 & 0.603\\\\\n",
       "\t4 & 2013 & 85 & 18 & 0.745\\\\\n",
       "\t5 & 2014 & 87 & 14 & 0.68\\\\\n",
       "\\end{tabular}\n"
      ],
      "text/plain": [
       "  year students gtas mean.marks\n",
       "1 2010       35    4      0.505\n",
       "2 2011       89    7      0.689\n",
       "3 2012      162    9      0.603\n",
       "4 2013       85   18      0.745\n",
       "5 2014       87   14      0.680"
      ]
     },
     "execution_count": 4,
     "metadata": {},
     "output_type": "execute_result"
    }
   ],
   "source": [
    "class.data"
   ]
  },
  {
   "cell_type": "code",
   "execution_count": 5,
   "metadata": {
    "collapsed": false
   },
   "outputs": [
    {
     "data": {
      "image/png": "[encoded data removed]",
      "text/plain": [
       "Plot with title “Module scores”"
      ]
     },
     "metadata": {
      "image/svg+xml": {
       "isolated": true
      }
     },
     "output_type": "display_data"
    }
   ],
   "source": [
    "options(repr.plot.width=7, repr.plot.height=3.2)  # fit in browser display\n",
    "par(mfrow=c(1,2))\n",
    "boxplot(score~year, data=lecturer.scores, col=\"maroon\", main=\"Lecturer scores\")\n",
    "boxplot(score~year, data=module.scores, col=\"maroon\", main=\"Module scores\")\n",
    "par(mfrow=c(1,1))"
   ]
  },
  {
   "cell_type": "markdown",
   "metadata": {},
   "source": [
    "## You can preload popular libraries\n",
    "\n",
    "The ones available via Anaconda are [here](https://anaconda.org/r/packages) -- but\n",
    "you don't need Anaconda to install R on Docker, it's just easier, and you don't need\n",
    "to use Anaconda to install other R packages when you start with the Anaconda distribution."
   ]
  },
  {
   "cell_type": "code",
   "execution_count": null,
   "metadata": {
    "collapsed": false
   },
   "outputs": [],
   "source": [
    "# names(feedback.topics) --> 'year' 'topic' 'fraction.of.feedback'\n",
    "library(ggplot2)\n",
    "ggplot(feedback.topics, aes(x = year, y = fraction.of.feedback, fill = topic)) + \n",
    "  geom_bar(stat = 'identity', position = 'stack')"
   ]
  },
  {
   "cell_type": "markdown",
   "metadata": {},
   "source": [
    "## Students can immediately alter functions and try things on their own\n",
    "\n",
    "So you can present them with functions and let them modify them ... and realistically alternate Theory → Worked example → Hands-on in class. (Or in a tutorial / demo at a conference)."
   ]
  },
  {
   "cell_type": "code",
   "execution_count": null,
   "metadata": {
    "collapsed": false
   },
   "outputs": [],
   "source": [
    "options(repr.plot.width=4.2, repr.plot.height=3.8)\n",
    "class_year = 2010\n",
    "\n",
    "show.feedback <- function(year, highlight, methodology) {\n",
    "    df = feedback.topics[feedback.topics$year == year,]\n",
    "    pie(df$fraction.of.feedback,\n",
    "        labels=sprintf('%s\\n%d%%', df$topic, round(df$fraction.of.feedback*100)),\n",
    "        clockwise=T,\n",
    "        col=ifelse(df$topic %in% highlight, 'maroon', 'lightgray'),\n",
    "        main=sprintf('%d - %s',year, methodology))\n",
    "}"
   ]
  },
  {
   "cell_type": "code",
   "execution_count": null,
   "metadata": {
    "collapsed": false
   },
   "outputs": [],
   "source": [
    "show.feedback(2010, c('Pace'), 'Traditional lecture style')\n",
    "#show.feedback(2011, c('Pace', 'Support'), '3 extra hours of lab')\n",
    "#show.feedback(2012, c('Lecturer', 'Material'), 'YouTube videos + in-class work')\n",
    "#show.feedback(2013, c('Lecturer', 'Support'), 'Written lecture notes + in-class work')\n",
    "#show.feedback(2014, c('Support'), '10-min. lectures + sticky notes + in-class work')"
   ]
  },
  {
   "cell_type": "markdown",
   "metadata": {},
   "source": [
    "# Aside notes\n",
    "\n",
    "By the way, yes Jupyter can present LaTeX markup (between `$$` symbols -- using the MathJax javascript library):\n",
    "\n",
    "$$log(Q) = \\alpha - \\eta log(P)$$\n",
    "\n",
    "\n",
    "## References\n",
    "\n",
    "- C. T. Jacobs, G. J. Gorman, H. E. Rees, L. E. Craig (In Press). Experiences with efficient methodologies for teaching computer programming to geoscientists. Journal of Geoscience Education. Pre-print: http://arxiv.org/abs/1505.05425\n",
    "- IRKernel: https://irkernel.github.io/\n",
    "- Jupyter: http://jupyter.org/\n",
    "- Jupyter's GitHub repositories\n",
    "  - for [tmpnb] (no authentication; temporary notebooks)\n",
    "  - for [JupyterHub] (login-authenticated; one account per user on the system)\n",
    "  - for the Dockerfile that makes their [default Jupyter+R installation][r-dockerfile]\n",
    "- Docker: https://www.docker.com/\n",
    "  \n",
    "[tmpnb]: https://github.com/jupyter/tmpnb\n",
    "[JupyterHub]: https://github.com/jupyterhub\n",
    "[r-dockerfile]: https://github.com/jupyter/docker-stacks/blob/master/r-notebook/Dockerfile"
   ]
  }
 ],
 "metadata": {
  "kernelspec": {
   "display_name": "R",
   "language": "R",
   "name": "ir"
  },
  "language_info": {
   "codemirror_mode": "r",
   "file_extension": ".r",
   "mimetype": "text/x-r-source",
   "name": "R",
   "pygments_lexer": "r",
   "version": "3.2.2"
  }
 },
 "nbformat": 4,
 "nbformat_minor": 0
}
